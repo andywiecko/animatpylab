{
 "cells": [
  {
   "attachments": {},
   "cell_type": "markdown",
   "metadata": {},
   "source": [
    "# animatpylab\n",
    "\n",
    "This notebook is a proof of concept for learning animats simulated with _position-based dynamics physics_ (PBD).\n",
    "\n",
    "The PBD [[1]](#bibliography) is implemented with edge and triangle constraints with simple collisions with the ground (including friction). \n",
    "For more advanced PBD, I encourage you to visit my [PBD2D project][pbd2d]. \n",
    "Simulation data is stored and processed with the `numpy` package.\n",
    "\n",
    "Animats are based on the paper [[2]](#bibliography). \n",
    "The implementation of the animats is introduced by constraint values oscillation. \n",
    "Each point influences the corresponding edge's rest length by an additional oscillator $\\Omega_i$:\n",
    "\n",
    "$$\n",
    "\\Omega_i = A_i \\sin(\\omega_i t + \\phi_i)\n",
    "$$\n",
    "\n",
    "As a result, each edge's rest length $\\ell_0$ is modified in time in the following way:\n",
    "\n",
    "$$\n",
    "\\ell(t) = (1 + \\Omega_i + \\Omega_j) \\cdot \\ell(0)\n",
    "$$\n",
    "\n",
    "To teach animats how to move, the objective function $J(A, \\omega, \\phi)$ was minimized via the parameter $\\{A_i, \\omega_i, \\phi_i\\}$:\n",
    "\n",
    "$$\n",
    "\\min_{A, \\omega, \\phi} J(A, \\omega, \\phi) = \\min_{\\{A_i, \\omega_i, \\phi_i\\}} -\\frac{1}{N}\\sum_{i=1}^N \\left[p_i(t)-p_i(0)\\right] \\cdot \\hat x\n",
    "$$\n",
    "\n",
    "\n",
    "[pbd2d]: https://github.com/andywiecko/PBD2D"
   ]
  },
  {
   "attachments": {},
   "cell_type": "markdown",
   "metadata": {},
   "source": [
    "## Install"
   ]
  },
  {
   "cell_type": "code",
   "execution_count": null,
   "metadata": {},
   "outputs": [],
   "source": [
    "%pip install matplotlib==3.6.3\n",
    "%pip install numpy==1.24.0\n",
    "%pip install scikit-learn==1.2.1\n",
    "%pip install scikit-optimize==0.9.0\n",
    "%pip install scipy==1.10.1"
   ]
  },
  {
   "attachments": {},
   "cell_type": "markdown",
   "metadata": {},
   "source": [
    "## Dependencies"
   ]
  },
  {
   "cell_type": "code",
   "execution_count": 1,
   "metadata": {},
   "outputs": [],
   "source": [
    "import numpy as np\n",
    "import yaml\n",
    "import matplotlib.pyplot as plt\n",
    "from matplotlib.animation import FuncAnimation\n",
    "from skopt import gp_minimize\n",
    "from scipy.optimize import minimize\n",
    "from scipy.optimize import dual_annealing\n",
    "from scipy.optimize import differential_evolution\n",
    "from scipy.optimize import basinhopping\n",
    "from sklearn.cluster import KMeans"
   ]
  },
  {
   "attachments": {},
   "cell_type": "markdown",
   "metadata": {},
   "source": [
    "## PBD implementation\n",
    "\n",
    "Below one can find the implementation of the PBD routines.\n",
    "In the following functions, the standard physics notation was used:\n",
    "\n",
    "- `p` positions;\n",
    "- `q` previous positions;\n",
    "- `e` edges;\n",
    "- `t` triangles;\n",
    "- `rho` mass density;\n",
    "- `v` velocities;\n",
    "- `a` aceleration;\n",
    "- `dt` delta time;\n",
    "- `mu` friction coeficient;\n",
    "- `l0` rest lengths;\n",
    "- `k` stiffness;\n",
    "- `w` weights (inverse masses);\n",
    "- `a0` rest areas."
   ]
  },
  {
   "cell_type": "code",
   "execution_count": 2,
   "metadata": {},
   "outputs": [],
   "source": [
    "def generate_edge_constraints(p, e):\n",
    "    return np.sqrt(((p[e[:, 0]] - p[e[:, 1]])**2).sum(axis=1))\n",
    "\n",
    "def generate_triangle_constraints(p, t):\n",
    "    a, b, c = p[t[:, 0]], p[t[:, 1]], p[t[:, 2]]\n",
    "    return np.cross(b - a, c - a)\n",
    "\n",
    "def generate_oscilators(bounds, size):\n",
    "    a = np.random.uniform(low=bounds[0][0], high=bounds[0][1], size=(size,1))\n",
    "    omega = np.random.uniform(low=bounds[1][0], high=bounds[1][1], size=(size,1))\n",
    "    phi = np.random.uniform(low=bounds[2][0], high=bounds[2][1], size=(size,1))\n",
    "    return np.hstack((a, omega, phi))\n",
    "\n",
    "def generate_weights(t, p, rho):\n",
    "    w = np.zeros(len(p))\n",
    "    for i in range(len(t)):\n",
    "        t0, t1, t2 = t[i, 0], t[i, 1], t[i, 2]\n",
    "        p0, p1, p2 = p[t0], p[t1], p[t2]\n",
    "\n",
    "        p01 = p1 - p0\n",
    "        p02 = p2 - p0\n",
    "        a = np.cross(p01, p02)\n",
    "        w0 = 6. / rho / np.abs(a)\n",
    "        w[t0] += w0\n",
    "        w[t1] += w0\n",
    "        w[t2] += w0\n",
    "    return w\n",
    "\n",
    "def step_start(p, q, v, a, dt):\n",
    "    v += a * dt\n",
    "    q[:] = p[:]\n",
    "    p += v * dt\n",
    "\n",
    "def collide_with_floor(p, q, mu):\n",
    "    id = p[:, 1] < 0\n",
    "    fn = p[:, 1][id]\n",
    "    p[:, 1][id] = 0\n",
    "\n",
    "    dx = p[:, 0][id] - q[:, 0][id]\n",
    "    s = np.sign(dx)\n",
    "    dx = np.minimum(np.abs(dx), mu * np.abs(fn)) * s\n",
    "    p[:, 0][id] -= dx\n",
    "\n",
    "def edge_constraint(p, w, e, l0, k):\n",
    "    for i in range(len(e)):\n",
    "        e0, e1 = e[i, 0], e[i, 1]\n",
    "        p0, p1, w0, w1 = p[e0], p[e1], w[e0], w[e1]\n",
    "        n = p1 - p0\n",
    "        l = np.linalg.norm(n)\n",
    "        if l <= 1e-9:\n",
    "            continue\n",
    "        n = -n / l\n",
    "        lam = -(l - l0[i]) / (w0 + w1)\n",
    "        dx = k * lam * n\n",
    "        p[e0] += w0 * dx\n",
    "        p[e1] -= w1 * dx\n",
    "\n",
    "def triangle_constraint(p, w, t, a0, k):\n",
    "    for i in range(len(t)):\n",
    "        t0, t1, t2 = t[i, 0], t[i, 1], t[i, 2]\n",
    "        p0, p1, p2, w0, w1, w2 = p[t0], p[t1], p[t2], w[t0], w[t1], w[t2]\n",
    "        \n",
    "        p01 = p1 - p0\n",
    "        p02 = p2 - p0\n",
    "        p12 = p2 - p1\n",
    "        lam = w0 * np.dot(p12, p12) + w1 * np.dot(p02, p02) + w2 * np.dot(p01, p01)\n",
    "        if lam < 1e-7:\n",
    "            continue\n",
    "\n",
    "        lam = k / lam\n",
    "        a = np.cross(p01, p02)\n",
    "        if np.abs(a) < 1e-7:\n",
    "            continue\n",
    "\n",
    "        dx = lam * (a - a0[i])\n",
    "        ccw = np.array([[0, -1], [1, 0]])\n",
    "        p[t0] -= dx * w0 * ccw @ p12\n",
    "        p[t1] -= dx * w1 * ccw @ -p02\n",
    "        p[t2] -= dx * w2 * ccw @ p01\n",
    "\n",
    "def step_end(p, q, v, dt):\n",
    "    v[:] = (p[:] - q[:]) / dt"
   ]
  },
  {
   "attachments": {},
   "cell_type": "markdown",
   "metadata": {},
   "source": [
    "## System implementation\n",
    "\n",
    "`System` class implements classic PBD step algorithm. \n",
    "It supports `yaml` initialization, see `data.yaml` example:\n",
    "\n",
    "```yaml\n",
    "positions:\n",
    "  [\n",
    "    [0., 0],\n",
    "    [1, 0.2],\n",
    "    [2, 0.2],\n",
    "    [3, 0],\n",
    "    [0, 1],\n",
    "    [1, 1],\n",
    "    [2, 1],\n",
    "    [3, 1],\n",
    "  ]\n",
    "\n",
    "edges:\n",
    "  [\n",
    "    [0, 1], [1, 2], [2, 3],\n",
    "    [4, 5], [5, 6], [6, 7],\n",
    "    [0, 4], [1, 5], [2, 6], [3, 7],\n",
    "    [0, 5], [1, 6], [2, 7],\n",
    "  ]\n",
    "\n",
    "triangles:\n",
    "  [\n",
    "    [0, 4, 5], [0, 5, 1], [1, 5, 6],\n",
    "    [1, 6, 2], [2, 6, 7], [2, 7, 3],\n",
    "  ]\n",
    "```"
   ]
  },
  {
   "cell_type": "code",
   "execution_count": 3,
   "metadata": {},
   "outputs": [],
   "source": [
    "class System:\n",
    "    def __init__(self):\n",
    "        self.steps = 8\n",
    "        self.dt = 1. / 60 / self.steps\n",
    "        self.g = np.array([0, -100])\n",
    "        self.tau = 1.\n",
    "        self.t = 0.\n",
    "        self.T = 10.\n",
    "        self.edge_stiffness = 1.\n",
    "        self.triangle_stiffness = 1.\n",
    "        self.mu = 10.\n",
    "\n",
    "    def initialize(self, data_path):\n",
    "        with open(data_path) as f:\n",
    "            data = yaml.safe_load(f)\n",
    "            self.positions = np.array(data['positions'])\n",
    "            self.edges = np.array(data['edges'])\n",
    "            self.triangles = np.array(data['triangles'])\n",
    "            self.weights = generate_weights(self.triangles, self.positions, rho=1.)\n",
    "            self.previous_positions = np.zeros(self.positions.shape)\n",
    "            self.velocities = np.zeros(self.positions.shape)\n",
    "            self.constraint_e = generate_edge_constraints(self.positions, self.edges)\n",
    "            self.constraint_t = generate_triangle_constraints(self.positions, self.triangles)\n",
    "            self.oscilators = np.zeros((len(self.positions), 3))\n",
    "\n",
    "    def copy_from(self, other):\n",
    "        self.steps = other.steps\n",
    "        self.dt = other.dt\n",
    "        self.g = other.g\n",
    "        self.tau = other.tau\n",
    "        self.t = other.t\n",
    "        self.T = other.T\n",
    "        self.edge_stiffness = other.edge_stiffness\n",
    "        self.triangle_stiffness = other.triangle_stiffness\n",
    "        self.mu = other.mu\n",
    "\n",
    "        self.positions = other.positions.copy()\n",
    "        self.edges = other.edges.copy()\n",
    "        self.triangles = other.triangles.copy()\n",
    "        self.weights = other.weights.copy()\n",
    "        self.previous_positions = other.previous_positions.copy()\n",
    "        self.velocities = other.velocities.copy()\n",
    "        self.constraint_e = other.constraint_e.copy()\n",
    "        self.constraint_t = other.constraint_t.copy()\n",
    "        self.oscilators = other.oscilators.copy()\n",
    "\n",
    "    def step(self):\n",
    "        step_start(self.positions, self.previous_positions, self.velocities, self.g, self.dt)\n",
    "        gensin = lambda o, e, t: o[e, 0] * np.sin(o[e, 1] * t + o[e, 2])\n",
    "        factor = lambda o, e, t: gensin(o, e[:, 0], t) + gensin(o, e[:, 1], t)\n",
    "        ramp = min(1.-(self.tau-self.t) / self.tau, 1)\n",
    "        f = 1 + ramp * factor(self.oscilators, self.edges, self.t)\n",
    "        edge_constraint(self.positions, self.weights, self.edges, f * self.constraint_e, k=self.edge_stiffness)\n",
    "        triangle_constraint(self.positions, self.weights, self.triangles, self.constraint_t, k=self.triangle_stiffness)\n",
    "        collide_with_floor(self.positions, self.previous_positions, mu=self.mu)\n",
    "        step_end(self.positions, self.previous_positions, self.velocities, self.dt)  \n",
    "\n",
    "    def simulate(self, x=None):\n",
    "        self.t = 0\n",
    "        if x is not None:\n",
    "            x.append(self.positions.copy())\n",
    "            while self.t < self.T:\n",
    "                self.step()\n",
    "                self.t += self.dt\n",
    "                x.append(self.positions.copy())\n",
    "        else:\n",
    "            while self.t < self.T:\n",
    "                self.step()\n",
    "                self.t += self.dt\n",
    "\n",
    "    def mean_position(self): \n",
    "        return self.positions.mean(axis=0)"
   ]
  },
  {
   "attachments": {},
   "cell_type": "markdown",
   "metadata": {},
   "source": [
    "## Box"
   ]
  },
  {
   "cell_type": "code",
   "execution_count": 4,
   "metadata": {},
   "outputs": [],
   "source": [
    "def black_box_function(x):\n",
    "    system.copy_from(system_raw)\n",
    "    system.oscilators = np.array(x).reshape(system.oscilators.shape)\n",
    "\n",
    "    mu0 = system.positions.mean(axis=0)[0]\n",
    "    system.simulate()\n",
    "    mu = system.positions.mean(axis=0)[0]\n",
    "    dist = mu0 - mu\n",
    "\n",
    "    global i, sol, best_oscilators\n",
    "    if sol < -dist:\n",
    "        best_oscilators = system.oscilators.copy()\n",
    "\n",
    "    sol = max(sol, -dist)\n",
    "    print(i, -dist, sol)\n",
    "    i += 1\n",
    "    \n",
    "    return dist\n",
    "\n",
    "def update(i, x, e):\n",
    "    ax.clear()\n",
    "    ax.set_aspect('equal')\n",
    "    ax.set_xlim((-1, +30))\n",
    "    ax.set_ylim((-0.1, 3))\n",
    "    ax.scatter(x[i][:, 0], x[i][:, 1], color='blue')\n",
    "    ax.set_title(f'$i={i}$')\n",
    "    for ei in e:\n",
    "        p = x[i][ei]\n",
    "        ax.plot(p[:, 0], p[:, 1], color='blue')"
   ]
  },
  {
   "cell_type": "code",
   "execution_count": 6,
   "metadata": {},
   "outputs": [],
   "source": [
    "system_raw = System()\n",
    "system_raw.initialize('data.yaml')\n",
    "system = System()\n",
    "bounds = [(0.0, 0.15), (0.0, 20.0), (-np.pi, np.pi)]\n",
    "best_oscilators = generate_oscilators(bounds, len(system_raw.oscilators))"
   ]
  },
  {
   "cell_type": "code",
   "execution_count": null,
   "metadata": {},
   "outputs": [],
   "source": [
    "np.random.seed(42)\n",
    "s = system_raw.oscilators.shape\n",
    "\n",
    "system_raw.edge_stiffness = 0.5\n",
    "system_raw.triangle_stiffness = 1.\n",
    "i, sol = 0, 0\n",
    "for _ in range(100):\n",
    "    o = generate_oscilators(bounds, len(system_raw.oscilators))\n",
    "    black_box_function(o.flatten())"
   ]
  },
  {
   "cell_type": "code",
   "execution_count": 12,
   "metadata": {},
   "outputs": [
    {
     "name": "stdout",
     "output_type": "stream",
     "text": [
      "1.6629862571987943\n"
     ]
    }
   ],
   "source": [
    "system.copy_from(system_raw)\n",
    "system.oscilators = best_oscilators.copy()\n",
    "mu0 = system.mean_position()[0]\n",
    "system.simulate(x := [])\n",
    "mu = system.mean_position()[0]\n",
    "print(mu - mu0)\n",
    "\n",
    "fig, ax = plt.subplots(figsize=(10, 2))\n",
    "ani = FuncAnimation(fig, update, frames=len(x[::16]), interval=100, fargs=(x[::16], system_raw.edges,))\n",
    "ani.save('img/box-gen-1.gif')\n",
    "plt.close()"
   ]
  },
  {
   "cell_type": "code",
   "execution_count": null,
   "metadata": {},
   "outputs": [],
   "source": [
    "sol, i = 0, 0\n",
    "result = minimize(black_box_function, \n",
    "  x0=best_oscilators.flatten(), \n",
    "  method='L-BFGS-B', \n",
    "  bounds=bounds * len(system_raw.oscilators),\n",
    "  #options={ \n",
    "  #  'maxiter' : 2,\n",
    "  #  'maxfun' : 5,\n",
    "  #  'maxls' : 5,\n",
    "  #}\n",
    ")"
   ]
  },
  {
   "cell_type": "code",
   "execution_count": 15,
   "metadata": {},
   "outputs": [
    {
     "name": "stdout",
     "output_type": "stream",
     "text": [
      "9.263155676601865\n"
     ]
    }
   ],
   "source": [
    "system.copy_from(system_raw)\n",
    "system.oscilators = best_oscilators.copy()\n",
    "mu0 = system.mean_position()[0]\n",
    "system.simulate(x := [])\n",
    "mu = system.mean_position()[0]\n",
    "print(mu - mu0)\n",
    "\n",
    "fig, ax = plt.subplots(figsize=(10, 2))\n",
    "ani = FuncAnimation(fig, update, frames=len(x[::16]), interval=100, fargs=(x[::16], system_raw.edges,))\n",
    "ani.save('img/box-gen-2.gif')\n",
    "plt.close()"
   ]
  },
  {
   "cell_type": "code",
   "execution_count": null,
   "metadata": {},
   "outputs": [],
   "source": [
    "sol, i = 0, 0\n",
    "result = gp_minimize(\n",
    "    func=black_box_function, \n",
    "    dimensions=bounds * len(system_raw.oscilators),\n",
    "    n_calls=1_00,\n",
    "    x0=list(best_oscilators.flatten()),\n",
    "    n_jobs=8\n",
    ")"
   ]
  },
  {
   "cell_type": "code",
   "execution_count": null,
   "metadata": {},
   "outputs": [],
   "source": [
    "sol, i = 0, 0\n",
    "result = dual_annealing(\n",
    "    func=black_box_function, \n",
    "    bounds=bounds * len(system_raw.oscilators),\n",
    "    maxiter=10,\n",
    "    maxfun=100,\n",
    "    x0=best_oscilators.flatten()\n",
    ")"
   ]
  },
  {
   "cell_type": "code",
   "execution_count": null,
   "metadata": {},
   "outputs": [],
   "source": [
    "i, sol = 0, 0\n",
    "result = basinhopping(\n",
    "    func=black_box_function,\n",
    "    x0=best_oscilators.flatten(),\n",
    "    minimizer_kwargs= { \"method\": \"L-BFGS-B\", \"bounds\": bounds * len(system_raw.oscilators)  },\n",
    "    niter=100\n",
    ")"
   ]
  },
  {
   "cell_type": "code",
   "execution_count": 24,
   "metadata": {},
   "outputs": [
    {
     "name": "stdout",
     "output_type": "stream",
     "text": [
      "18.13480998388467\n"
     ]
    }
   ],
   "source": [
    "system.copy_from(system_raw)\n",
    "system.oscilators = best_oscilators.copy()\n",
    "mu0 = system.mean_position()[0]\n",
    "system.simulate(x := [])\n",
    "mu = system.mean_position()[0]\n",
    "print(mu - mu0)\n",
    "\n",
    "fig, ax = plt.subplots(figsize=(10,2))\n",
    "ani = FuncAnimation(fig, update, frames=len(x[::16]), interval=100, fargs=(x[::16], system_raw.edges,))\n",
    "ani.save('img/box-gen-3.gif')\n",
    "plt.close()"
   ]
  },
  {
   "attachments": {},
   "cell_type": "markdown",
   "metadata": {},
   "source": [
    "### Results\n",
    "\n",
    "#### Generation 1\n",
    "\n",
    "![box-gen-1](img/box-gen-1.gif)\n",
    "\n",
    "#### Generation 2\n",
    "\n",
    "![box-gen-2](img/box-gen-2.gif)\n",
    "\n",
    "#### Generation 3\n",
    "\n",
    "![box-gen-3](img/box-gen-3.gif)"
   ]
  },
  {
   "attachments": {},
   "cell_type": "markdown",
   "metadata": {},
   "source": [
    "## Bunny"
   ]
  },
  {
   "cell_type": "code",
   "execution_count": 5,
   "metadata": {},
   "outputs": [],
   "source": [
    "def update_bunny(i, x, e):\n",
    "    ax.clear()\n",
    "    ax.set_aspect('equal')\n",
    "    ax.set_xlim((-1, +50))\n",
    "    ax.set_ylim((-0.1, 3))\n",
    "    #ax.scatter(x[i][:, 0], x[i][:, 1], color='blue')\n",
    "    for ei in e:\n",
    "        p = x[i][ei]\n",
    "        ax.plot(p[:, 0], p[:, 1], color='blue', linewidth=0.5)"
   ]
  },
  {
   "cell_type": "code",
   "execution_count": null,
   "metadata": {},
   "outputs": [],
   "source": [
    "bounds = [(0.0, 0.20), (0.0, 20.0), (-np.pi, np.pi)]\n",
    "system_raw = System()\n",
    "system_raw.initialize('data-bunny.yaml')\n",
    "system = System()"
   ]
  },
  {
   "cell_type": "code",
   "execution_count": 7,
   "metadata": {},
   "outputs": [
    {
     "name": "stdout",
     "output_type": "stream",
     "text": [
      "0 0.390757150613694 0.390757150613694\n",
      "1 0.4074251848679422 0.4074251848679422\n",
      "2 0.11467321229140226 0.4074251848679422\n",
      "3 -0.21271668501054697 0.4074251848679422\n",
      "4 0.2834007467005297 0.4074251848679422\n",
      "5 0.004355510440554822 0.4074251848679422\n"
     ]
    }
   ],
   "source": [
    "np.random.seed(42)\n",
    "\n",
    "i, sol = 0, 0\n",
    "for _ in range(10):\n",
    "    o = generate_oscilators(bounds, len(system_raw.oscilators))\n",
    "    black_box_function(o.flatten())"
   ]
  },
  {
   "cell_type": "code",
   "execution_count": null,
   "metadata": {},
   "outputs": [],
   "source": [
    "sol, i = 0, 0\n",
    "result = gp_minimize(\n",
    "    func=black_box_function, \n",
    "    dimensions=bounds * len(system_raw.oscilators),\n",
    "    n_calls=100,\n",
    "    x0=list(best_oscilators.flatten()),\n",
    "    n_jobs=8)"
   ]
  },
  {
   "cell_type": "code",
   "execution_count": null,
   "metadata": {},
   "outputs": [],
   "source": [
    "sol, i = 0, 0\n",
    "result = dual_annealing(\n",
    "    func=black_box_function, \n",
    "    bounds=bounds * len(system_raw.oscilators),\n",
    "    maxiter=10,\n",
    "    maxfun=100,\n",
    "    x0=best_oscilators.flatten()\n",
    ")"
   ]
  },
  {
   "cell_type": "code",
   "execution_count": null,
   "metadata": {},
   "outputs": [],
   "source": [
    "sol, i = 0, 0\n",
    "result = differential_evolution(\n",
    "    func=black_box_function, \n",
    "    bounds=bounds * len(system_raw.oscilators), \n",
    "    maxiter=16 * 5,\n",
    "    x0=best_oscilators.flatten(),\n",
    "    workers=16\n",
    ")"
   ]
  },
  {
   "cell_type": "code",
   "execution_count": null,
   "metadata": {},
   "outputs": [],
   "source": [
    "sol, i = 0, 0\n",
    "result = minimize(black_box_function, \n",
    "  x0=best_oscilators.flatten(), \n",
    "  method='L-BFGS-B', \n",
    "  bounds=bounds * len(system_raw.oscilators),\n",
    "  options={ \n",
    "    'maxiter' : 2,\n",
    "    'maxfun' : 5,\n",
    "    'maxls' : 5,\n",
    "  }\n",
    ")"
   ]
  },
  {
   "cell_type": "code",
   "execution_count": null,
   "metadata": {},
   "outputs": [],
   "source": [
    "np.save('best_oscilators-bunny', best_oscilators) "
   ]
  },
  {
   "cell_type": "code",
   "execution_count": null,
   "metadata": {},
   "outputs": [],
   "source": [
    "system.copy_from(system_raw)\n",
    "system.oscilators = best_oscilators.copy()\n",
    "mu0 = system.mean_position()[0]\n",
    "system.simulate(x := [])\n",
    "mu = system.mean_position()[0]\n",
    "\n",
    "print(f\"sim done! ({mu-mu0})\")\n",
    "\n",
    "fig, ax = plt.subplots()\n",
    "ani = FuncAnimation(fig, update_bunny, frames=len(x[::16]), interval=100, fargs=(x[::16], system_raw.edges,))\n",
    "ani.save('ani-bunny-opt.gif')\n",
    "plt.close()"
   ]
  },
  {
   "attachments": {},
   "cell_type": "markdown",
   "metadata": {},
   "source": [
    "## Clustering"
   ]
  },
  {
   "cell_type": "code",
   "execution_count": 15,
   "metadata": {},
   "outputs": [],
   "source": [
    "bounds = [(0.0, 0.20), (0.0, 20.0), (-np.pi, np.pi)]\n",
    "\n",
    "system_raw = System()\n",
    "system_raw.initialize('data-bunny.yaml')\n",
    "system = System()\n",
    "\n",
    "best_oscilators = np.load('best_oscilators-cbunny.npy')\n",
    "best_cluster_oscilators = np.load('best_cluster_oscilators-cbunny.npy')"
   ]
  },
  {
   "cell_type": "code",
   "execution_count": 16,
   "metadata": {},
   "outputs": [
    {
     "data": {
      "image/png": "[encoded data removed]",
      "text/plain": [
       "<Figure size 640x480 with 1 Axes>"
      ]
     },
     "metadata": {},
     "output_type": "display_data"
    }
   ],
   "source": [
    "clusters_count = 8\n",
    "\n",
    "kmeans = KMeans(n_clusters=clusters_count, random_state=0, n_init=\"auto\").fit(system_raw.positions)\n",
    "kmeans.labels_\n",
    "\n",
    "plt.style.use('ggplot')\n",
    "\n",
    "p = system_raw.positions\n",
    "fig, ax = plt.subplots()\n",
    "ax.set_aspect('equal')\n",
    "for ei in system_raw.edges:\n",
    "        pi = p[ei]\n",
    "        ax.plot(pi[:, 0], pi[:, 1], color='black', linewidth=.5)\n",
    "ax.scatter(p[:, 0], p[:, 1], c=kmeans.labels_, cmap='gist_rainbow', zorder=100)\n",
    "plt.show()"
   ]
  },
  {
   "cell_type": "code",
   "execution_count": 17,
   "metadata": {},
   "outputs": [],
   "source": [
    "clusters = {}\n",
    "for i in range(clusters_count):\n",
    "    clusters[i] = np.where(kmeans.labels_ == i)[0].copy()"
   ]
  },
  {
   "cell_type": "code",
   "execution_count": 18,
   "metadata": {},
   "outputs": [],
   "source": [
    "def black_box_function_clusters(x):\n",
    "    system.copy_from(system_raw)\n",
    "\n",
    "    clusters_oscilators = np.array(x).reshape((clusters_count, 3))\n",
    "    oscilators = np.zeros(system_raw.oscilators.shape)\n",
    "    for j in range(clusters_count):\n",
    "        oscilators[clusters[j]] = clusters_oscilators[j]\n",
    "    system.oscilators = oscilators\n",
    "\n",
    "    mu0 = system.positions.mean(axis=0)[0]\n",
    "    system.simulate()\n",
    "    mu = system.positions.mean(axis=0)[0]\n",
    "    dist = mu0 - mu\n",
    "\n",
    "    global i, sol, best_oscilators, best_cluster_oscilators\n",
    "    if sol < -dist:\n",
    "        best_oscilators = system.oscilators.copy()\n",
    "        best_cluster_oscilators = clusters_oscilators.copy()\n",
    "\n",
    "    sol = max(sol, -dist)\n",
    "    print(i, -dist, sol)\n",
    "    i += 1\n",
    "    \n",
    "    return dist"
   ]
  },
  {
   "cell_type": "code",
   "execution_count": 19,
   "metadata": {},
   "outputs": [
    {
     "name": "stdout",
     "output_type": "stream",
     "text": [
      "0 0.3330598753084033 0.3330598753084033\n"
     ]
    },
    {
     "ename": "KeyboardInterrupt",
     "evalue": "",
     "output_type": "error",
     "traceback": [
      "\u001b[0;31m---------------------------------------------------------------------------\u001b[0m",
      "\u001b[0;31mKeyboardInterrupt\u001b[0m                         Traceback (most recent call last)",
      "Cell \u001b[0;32mIn[19], line 6\u001b[0m\n\u001b[1;32m      4\u001b[0m \u001b[39mfor\u001b[39;00m _ \u001b[39min\u001b[39;00m \u001b[39mrange\u001b[39m(\u001b[39m10\u001b[39m):\n\u001b[1;32m      5\u001b[0m     o \u001b[39m=\u001b[39m generate_oscilators(bounds, clusters_count)\n\u001b[0;32m----> 6\u001b[0m     black_box_function_clusters(o\u001b[39m.\u001b[39;49mflatten())\n",
      "Cell \u001b[0;32mIn[18], line 11\u001b[0m, in \u001b[0;36mblack_box_function_clusters\u001b[0;34m(x)\u001b[0m\n\u001b[1;32m      8\u001b[0m system\u001b[39m.\u001b[39moscilators \u001b[39m=\u001b[39m oscilators\n\u001b[1;32m     10\u001b[0m mu0 \u001b[39m=\u001b[39m system\u001b[39m.\u001b[39mpositions\u001b[39m.\u001b[39mmean(axis\u001b[39m=\u001b[39m\u001b[39m0\u001b[39m)[\u001b[39m0\u001b[39m]\n\u001b[0;32m---> 11\u001b[0m system\u001b[39m.\u001b[39;49msimulate()\n\u001b[1;32m     12\u001b[0m mu \u001b[39m=\u001b[39m system\u001b[39m.\u001b[39mpositions\u001b[39m.\u001b[39mmean(axis\u001b[39m=\u001b[39m\u001b[39m0\u001b[39m)[\u001b[39m0\u001b[39m]\n\u001b[1;32m     13\u001b[0m dist \u001b[39m=\u001b[39m mu0 \u001b[39m-\u001b[39m mu\n",
      "Cell \u001b[0;32mIn[3], line 68\u001b[0m, in \u001b[0;36mSystem.simulate\u001b[0;34m(self, x)\u001b[0m\n\u001b[1;32m     66\u001b[0m \u001b[39melse\u001b[39;00m:\n\u001b[1;32m     67\u001b[0m     \u001b[39mwhile\u001b[39;00m \u001b[39mself\u001b[39m\u001b[39m.\u001b[39mt \u001b[39m<\u001b[39m \u001b[39mself\u001b[39m\u001b[39m.\u001b[39mT:\n\u001b[0;32m---> 68\u001b[0m         \u001b[39mself\u001b[39;49m\u001b[39m.\u001b[39;49mstep()\n\u001b[1;32m     69\u001b[0m         \u001b[39mself\u001b[39m\u001b[39m.\u001b[39mt \u001b[39m+\u001b[39m\u001b[39m=\u001b[39m \u001b[39mself\u001b[39m\u001b[39m.\u001b[39mdt\n",
      "Cell \u001b[0;32mIn[3], line 54\u001b[0m, in \u001b[0;36mSystem.step\u001b[0;34m(self)\u001b[0m\n\u001b[1;32m     52\u001b[0m f \u001b[39m=\u001b[39m \u001b[39m1\u001b[39m \u001b[39m+\u001b[39m ramp \u001b[39m*\u001b[39m factor(\u001b[39mself\u001b[39m\u001b[39m.\u001b[39moscilators, \u001b[39mself\u001b[39m\u001b[39m.\u001b[39medges, \u001b[39mself\u001b[39m\u001b[39m.\u001b[39mt)\n\u001b[1;32m     53\u001b[0m edge_constraint(\u001b[39mself\u001b[39m\u001b[39m.\u001b[39mpositions, \u001b[39mself\u001b[39m\u001b[39m.\u001b[39mweights, \u001b[39mself\u001b[39m\u001b[39m.\u001b[39medges, f \u001b[39m*\u001b[39m \u001b[39mself\u001b[39m\u001b[39m.\u001b[39mconstraint_e, k\u001b[39m=\u001b[39m\u001b[39mself\u001b[39m\u001b[39m.\u001b[39medge_stiffness)\n\u001b[0;32m---> 54\u001b[0m triangle_constraint(\u001b[39mself\u001b[39;49m\u001b[39m.\u001b[39;49mpositions, \u001b[39mself\u001b[39;49m\u001b[39m.\u001b[39;49mweights, \u001b[39mself\u001b[39;49m\u001b[39m.\u001b[39;49mtriangles, \u001b[39mself\u001b[39;49m\u001b[39m.\u001b[39;49mconstraint_t, k\u001b[39m=\u001b[39;49m\u001b[39mself\u001b[39;49m\u001b[39m.\u001b[39;49mtriangle_stiffness)\n\u001b[1;32m     55\u001b[0m collide_with_floor(\u001b[39mself\u001b[39m\u001b[39m.\u001b[39mpositions, \u001b[39mself\u001b[39m\u001b[39m.\u001b[39mprevious_positions, mu\u001b[39m=\u001b[39m\u001b[39mself\u001b[39m\u001b[39m.\u001b[39mmu)\n\u001b[1;32m     56\u001b[0m step_end(\u001b[39mself\u001b[39m\u001b[39m.\u001b[39mpositions, \u001b[39mself\u001b[39m\u001b[39m.\u001b[39mprevious_positions, \u001b[39mself\u001b[39m\u001b[39m.\u001b[39mvelocities, \u001b[39mself\u001b[39m\u001b[39m.\u001b[39mdt)\n",
      "Cell \u001b[0;32mIn[2], line 77\u001b[0m, in \u001b[0;36mtriangle_constraint\u001b[0;34m(p, w, t, a0, k)\u001b[0m\n\u001b[1;32m     75\u001b[0m dx \u001b[39m=\u001b[39m lam \u001b[39m*\u001b[39m (a \u001b[39m-\u001b[39m a0[i])\n\u001b[1;32m     76\u001b[0m ccw \u001b[39m=\u001b[39m np\u001b[39m.\u001b[39marray([[\u001b[39m0\u001b[39m, \u001b[39m-\u001b[39m\u001b[39m1\u001b[39m], [\u001b[39m1\u001b[39m, \u001b[39m0\u001b[39m]])\n\u001b[0;32m---> 77\u001b[0m p[t0] \u001b[39m-\u001b[39m\u001b[39m=\u001b[39m dx \u001b[39m*\u001b[39;49m w0 \u001b[39m*\u001b[39;49m ccw \u001b[39m@\u001b[39m p12\n\u001b[1;32m     78\u001b[0m p[t1] \u001b[39m-\u001b[39m\u001b[39m=\u001b[39m dx \u001b[39m*\u001b[39m w1 \u001b[39m*\u001b[39m ccw \u001b[39m@\u001b[39m \u001b[39m-\u001b[39mp02\n\u001b[1;32m     79\u001b[0m p[t2] \u001b[39m-\u001b[39m\u001b[39m=\u001b[39m dx \u001b[39m*\u001b[39m w2 \u001b[39m*\u001b[39m ccw \u001b[39m@\u001b[39m p01\n",
      "\u001b[0;31mKeyboardInterrupt\u001b[0m: "
     ]
    }
   ],
   "source": [
    "np.random.seed(42)\n",
    "\n",
    "i, sol = 0, 0\n",
    "for _ in range(10):\n",
    "    o = generate_oscilators(bounds, clusters_count)\n",
    "    black_box_function_clusters(o.flatten())"
   ]
  },
  {
   "cell_type": "code",
   "execution_count": 20,
   "metadata": {},
   "outputs": [
    {
     "name": "stdout",
     "output_type": "stream",
     "text": [
      "0 0.3330598753084033 0.3330598753084033\n",
      "1 0.33267151293806396 0.3330598753084033\n",
      "2 0.33238878133141125 0.3330598753084033\n",
      "3 0.33307105255496183 0.33307105255496183\n",
      "4 0.33330666162132383 0.33330666162132383\n",
      "5 0.3338512336095816 0.3338512336095816\n",
      "6 0.3330323410928753 0.3338512336095816\n",
      "7 0.33276159092286317 0.3338512336095816\n",
      "8 0.33321178439281884 0.3338512336095816\n",
      "9 0.33344481340399956 0.3338512336095816\n",
      "10 0.33298082198140766 0.3338512336095816\n",
      "11 0.33343549626962843 0.3338512336095816\n",
      "12 0.33352059456571115 0.3338512336095816\n",
      "13 0.33249536370857724 0.3338512336095816\n",
      "14 0.3327569644670689 0.3338512336095816\n",
      "15 0.3330389941179517 0.3338512336095816\n"
     ]
    },
    {
     "ename": "KeyboardInterrupt",
     "evalue": "",
     "output_type": "error",
     "traceback": [
      "\u001b[0;31m---------------------------------------------------------------------------\u001b[0m",
      "\u001b[0;31mKeyboardInterrupt\u001b[0m                         Traceback (most recent call last)",
      "Cell \u001b[0;32mIn[20], line 2\u001b[0m\n\u001b[1;32m      1\u001b[0m sol, i \u001b[39m=\u001b[39m \u001b[39m0\u001b[39m, \u001b[39m0\u001b[39m\n\u001b[0;32m----> 2\u001b[0m result \u001b[39m=\u001b[39m minimize(black_box_function_clusters, \n\u001b[1;32m      3\u001b[0m   x0\u001b[39m=\u001b[39;49mbest_cluster_oscilators\u001b[39m.\u001b[39;49mflatten(), \n\u001b[1;32m      4\u001b[0m   method\u001b[39m=\u001b[39;49m\u001b[39m'\u001b[39;49m\u001b[39mL-BFGS-B\u001b[39;49m\u001b[39m'\u001b[39;49m, \n\u001b[1;32m      5\u001b[0m   bounds\u001b[39m=\u001b[39;49mbounds \u001b[39m*\u001b[39;49m clusters_count,\n\u001b[1;32m      6\u001b[0m   \u001b[39m#options={ \u001b[39;49m\n\u001b[1;32m      7\u001b[0m   \u001b[39m#  'maxiter' : 2,\u001b[39;49m\n\u001b[1;32m      8\u001b[0m   \u001b[39m#  'maxfun' : 5,\u001b[39;49m\n\u001b[1;32m      9\u001b[0m   \u001b[39m#  'maxls' : 5,\u001b[39;49m\n\u001b[1;32m     10\u001b[0m   \u001b[39m#}\u001b[39;49m\n\u001b[1;32m     11\u001b[0m )\n",
      "File \u001b[0;32m~/.local/lib/python3.8/site-packages/scipy/optimize/_minimize.py:696\u001b[0m, in \u001b[0;36mminimize\u001b[0;34m(fun, x0, args, method, jac, hess, hessp, bounds, constraints, tol, callback, options)\u001b[0m\n\u001b[1;32m    693\u001b[0m     res \u001b[39m=\u001b[39m _minimize_newtoncg(fun, x0, args, jac, hess, hessp, callback,\n\u001b[1;32m    694\u001b[0m                              \u001b[39m*\u001b[39m\u001b[39m*\u001b[39moptions)\n\u001b[1;32m    695\u001b[0m \u001b[39melif\u001b[39;00m meth \u001b[39m==\u001b[39m \u001b[39m'\u001b[39m\u001b[39ml-bfgs-b\u001b[39m\u001b[39m'\u001b[39m:\n\u001b[0;32m--> 696\u001b[0m     res \u001b[39m=\u001b[39m _minimize_lbfgsb(fun, x0, args, jac, bounds,\n\u001b[1;32m    697\u001b[0m                            callback\u001b[39m=\u001b[39;49mcallback, \u001b[39m*\u001b[39;49m\u001b[39m*\u001b[39;49moptions)\n\u001b[1;32m    698\u001b[0m \u001b[39melif\u001b[39;00m meth \u001b[39m==\u001b[39m \u001b[39m'\u001b[39m\u001b[39mtnc\u001b[39m\u001b[39m'\u001b[39m:\n\u001b[1;32m    699\u001b[0m     res \u001b[39m=\u001b[39m _minimize_tnc(fun, x0, args, jac, bounds, callback\u001b[39m=\u001b[39mcallback,\n\u001b[1;32m    700\u001b[0m                         \u001b[39m*\u001b[39m\u001b[39m*\u001b[39moptions)\n",
      "File \u001b[0;32m~/.local/lib/python3.8/site-packages/scipy/optimize/_lbfgsb_py.py:305\u001b[0m, in \u001b[0;36m_minimize_lbfgsb\u001b[0;34m(fun, x0, args, jac, bounds, disp, maxcor, ftol, gtol, eps, maxfun, maxiter, iprint, callback, maxls, finite_diff_rel_step, **unknown_options)\u001b[0m\n\u001b[1;32m    302\u001b[0m     \u001b[39melse\u001b[39;00m:\n\u001b[1;32m    303\u001b[0m         iprint \u001b[39m=\u001b[39m disp\n\u001b[0;32m--> 305\u001b[0m sf \u001b[39m=\u001b[39m _prepare_scalar_function(fun, x0, jac\u001b[39m=\u001b[39;49mjac, args\u001b[39m=\u001b[39;49margs, epsilon\u001b[39m=\u001b[39;49meps,\n\u001b[1;32m    306\u001b[0m                               bounds\u001b[39m=\u001b[39;49mnew_bounds,\n\u001b[1;32m    307\u001b[0m                               finite_diff_rel_step\u001b[39m=\u001b[39;49mfinite_diff_rel_step)\n\u001b[1;32m    309\u001b[0m func_and_grad \u001b[39m=\u001b[39m sf\u001b[39m.\u001b[39mfun_and_grad\n\u001b[1;32m    311\u001b[0m fortran_int \u001b[39m=\u001b[39m _lbfgsb\u001b[39m.\u001b[39mtypes\u001b[39m.\u001b[39mintvar\u001b[39m.\u001b[39mdtype\n",
      "File \u001b[0;32m~/.local/lib/python3.8/site-packages/scipy/optimize/_optimize.py:332\u001b[0m, in \u001b[0;36m_prepare_scalar_function\u001b[0;34m(fun, x0, jac, args, bounds, epsilon, finite_diff_rel_step, hess)\u001b[0m\n\u001b[1;32m    328\u001b[0m     bounds \u001b[39m=\u001b[39m (\u001b[39m-\u001b[39mnp\u001b[39m.\u001b[39minf, np\u001b[39m.\u001b[39minf)\n\u001b[1;32m    330\u001b[0m \u001b[39m# ScalarFunction caches. Reuse of fun(x) during grad\u001b[39m\n\u001b[1;32m    331\u001b[0m \u001b[39m# calculation reduces overall function evaluations.\u001b[39m\n\u001b[0;32m--> 332\u001b[0m sf \u001b[39m=\u001b[39m ScalarFunction(fun, x0, args, grad, hess,\n\u001b[1;32m    333\u001b[0m                     finite_diff_rel_step, bounds, epsilon\u001b[39m=\u001b[39;49mepsilon)\n\u001b[1;32m    335\u001b[0m \u001b[39mreturn\u001b[39;00m sf\n",
      "File \u001b[0;32m~/.local/lib/python3.8/site-packages/scipy/optimize/_differentiable_functions.py:177\u001b[0m, in \u001b[0;36mScalarFunction.__init__\u001b[0;34m(self, fun, x0, args, grad, hess, finite_diff_rel_step, finite_diff_bounds, epsilon)\u001b[0m\n\u001b[1;32m    173\u001b[0m         \u001b[39mself\u001b[39m\u001b[39m.\u001b[39mg \u001b[39m=\u001b[39m approx_derivative(fun_wrapped, \u001b[39mself\u001b[39m\u001b[39m.\u001b[39mx, f0\u001b[39m=\u001b[39m\u001b[39mself\u001b[39m\u001b[39m.\u001b[39mf,\n\u001b[1;32m    174\u001b[0m                                    \u001b[39m*\u001b[39m\u001b[39m*\u001b[39mfinite_diff_options)\n\u001b[1;32m    176\u001b[0m \u001b[39mself\u001b[39m\u001b[39m.\u001b[39m_update_grad_impl \u001b[39m=\u001b[39m update_grad\n\u001b[0;32m--> 177\u001b[0m \u001b[39mself\u001b[39;49m\u001b[39m.\u001b[39;49m_update_grad()\n\u001b[1;32m    179\u001b[0m \u001b[39m# Hessian Evaluation\u001b[39m\n\u001b[1;32m    180\u001b[0m \u001b[39mif\u001b[39;00m callable(hess):\n",
      "File \u001b[0;32m~/.local/lib/python3.8/site-packages/scipy/optimize/_differentiable_functions.py:256\u001b[0m, in \u001b[0;36mScalarFunction._update_grad\u001b[0;34m(self)\u001b[0m\n\u001b[1;32m    254\u001b[0m \u001b[39mdef\u001b[39;00m \u001b[39m_update_grad\u001b[39m(\u001b[39mself\u001b[39m):\n\u001b[1;32m    255\u001b[0m     \u001b[39mif\u001b[39;00m \u001b[39mnot\u001b[39;00m \u001b[39mself\u001b[39m\u001b[39m.\u001b[39mg_updated:\n\u001b[0;32m--> 256\u001b[0m         \u001b[39mself\u001b[39;49m\u001b[39m.\u001b[39;49m_update_grad_impl()\n\u001b[1;32m    257\u001b[0m         \u001b[39mself\u001b[39m\u001b[39m.\u001b[39mg_updated \u001b[39m=\u001b[39m \u001b[39mTrue\u001b[39;00m\n",
      "File \u001b[0;32m~/.local/lib/python3.8/site-packages/scipy/optimize/_differentiable_functions.py:173\u001b[0m, in \u001b[0;36mScalarFunction.__init__.<locals>.update_grad\u001b[0;34m()\u001b[0m\n\u001b[1;32m    171\u001b[0m \u001b[39mself\u001b[39m\u001b[39m.\u001b[39m_update_fun()\n\u001b[1;32m    172\u001b[0m \u001b[39mself\u001b[39m\u001b[39m.\u001b[39mngev \u001b[39m+\u001b[39m\u001b[39m=\u001b[39m \u001b[39m1\u001b[39m\n\u001b[0;32m--> 173\u001b[0m \u001b[39mself\u001b[39m\u001b[39m.\u001b[39mg \u001b[39m=\u001b[39m approx_derivative(fun_wrapped, \u001b[39mself\u001b[39;49m\u001b[39m.\u001b[39;49mx, f0\u001b[39m=\u001b[39;49m\u001b[39mself\u001b[39;49m\u001b[39m.\u001b[39;49mf,\n\u001b[1;32m    174\u001b[0m                            \u001b[39m*\u001b[39;49m\u001b[39m*\u001b[39;49mfinite_diff_options)\n",
      "File \u001b[0;32m~/.local/lib/python3.8/site-packages/scipy/optimize/_numdiff.py:505\u001b[0m, in \u001b[0;36mapprox_derivative\u001b[0;34m(fun, x0, method, rel_step, abs_step, f0, bounds, sparsity, as_linear_operator, args, kwargs)\u001b[0m\n\u001b[1;32m    502\u001b[0m     use_one_sided \u001b[39m=\u001b[39m \u001b[39mFalse\u001b[39;00m\n\u001b[1;32m    504\u001b[0m \u001b[39mif\u001b[39;00m sparsity \u001b[39mis\u001b[39;00m \u001b[39mNone\u001b[39;00m:\n\u001b[0;32m--> 505\u001b[0m     \u001b[39mreturn\u001b[39;00m _dense_difference(fun_wrapped, x0, f0, h,\n\u001b[1;32m    506\u001b[0m                              use_one_sided, method)\n\u001b[1;32m    507\u001b[0m \u001b[39melse\u001b[39;00m:\n\u001b[1;32m    508\u001b[0m     \u001b[39mif\u001b[39;00m \u001b[39mnot\u001b[39;00m issparse(sparsity) \u001b[39mand\u001b[39;00m \u001b[39mlen\u001b[39m(sparsity) \u001b[39m==\u001b[39m \u001b[39m2\u001b[39m:\n",
      "File \u001b[0;32m~/.local/lib/python3.8/site-packages/scipy/optimize/_numdiff.py:576\u001b[0m, in \u001b[0;36m_dense_difference\u001b[0;34m(fun, x0, f0, h, use_one_sided, method)\u001b[0m\n\u001b[1;32m    574\u001b[0m     x \u001b[39m=\u001b[39m x0 \u001b[39m+\u001b[39m h_vecs[i]\n\u001b[1;32m    575\u001b[0m     dx \u001b[39m=\u001b[39m x[i] \u001b[39m-\u001b[39m x0[i]  \u001b[39m# Recompute dx as exactly representable number.\u001b[39m\n\u001b[0;32m--> 576\u001b[0m     df \u001b[39m=\u001b[39m fun(x) \u001b[39m-\u001b[39m f0\n\u001b[1;32m    577\u001b[0m \u001b[39melif\u001b[39;00m method \u001b[39m==\u001b[39m \u001b[39m'\u001b[39m\u001b[39m3-point\u001b[39m\u001b[39m'\u001b[39m \u001b[39mand\u001b[39;00m use_one_sided[i]:\n\u001b[1;32m    578\u001b[0m     x1 \u001b[39m=\u001b[39m x0 \u001b[39m+\u001b[39m h_vecs[i]\n",
      "File \u001b[0;32m~/.local/lib/python3.8/site-packages/scipy/optimize/_numdiff.py:456\u001b[0m, in \u001b[0;36mapprox_derivative.<locals>.fun_wrapped\u001b[0;34m(x)\u001b[0m\n\u001b[1;32m    455\u001b[0m \u001b[39mdef\u001b[39;00m \u001b[39mfun_wrapped\u001b[39m(x):\n\u001b[0;32m--> 456\u001b[0m     f \u001b[39m=\u001b[39m np\u001b[39m.\u001b[39matleast_1d(fun(x, \u001b[39m*\u001b[39;49margs, \u001b[39m*\u001b[39;49m\u001b[39m*\u001b[39;49mkwargs))\n\u001b[1;32m    457\u001b[0m     \u001b[39mif\u001b[39;00m f\u001b[39m.\u001b[39mndim \u001b[39m>\u001b[39m \u001b[39m1\u001b[39m:\n\u001b[1;32m    458\u001b[0m         \u001b[39mraise\u001b[39;00m \u001b[39mRuntimeError\u001b[39;00m(\u001b[39m\"\u001b[39m\u001b[39m`fun` return value has \u001b[39m\u001b[39m\"\u001b[39m\n\u001b[1;32m    459\u001b[0m                            \u001b[39m\"\u001b[39m\u001b[39mmore than 1 dimension.\u001b[39m\u001b[39m\"\u001b[39m)\n",
      "File \u001b[0;32m~/.local/lib/python3.8/site-packages/scipy/optimize/_differentiable_functions.py:137\u001b[0m, in \u001b[0;36mScalarFunction.__init__.<locals>.fun_wrapped\u001b[0;34m(x)\u001b[0m\n\u001b[1;32m    133\u001b[0m \u001b[39mself\u001b[39m\u001b[39m.\u001b[39mnfev \u001b[39m+\u001b[39m\u001b[39m=\u001b[39m \u001b[39m1\u001b[39m\n\u001b[1;32m    134\u001b[0m \u001b[39m# Send a copy because the user may overwrite it.\u001b[39m\n\u001b[1;32m    135\u001b[0m \u001b[39m# Overwriting results in undefined behaviour because\u001b[39m\n\u001b[1;32m    136\u001b[0m \u001b[39m# fun(self.x) will change self.x, with the two no longer linked.\u001b[39m\n\u001b[0;32m--> 137\u001b[0m fx \u001b[39m=\u001b[39m fun(np\u001b[39m.\u001b[39;49mcopy(x), \u001b[39m*\u001b[39;49margs)\n\u001b[1;32m    138\u001b[0m \u001b[39m# Make sure the function returns a true scalar\u001b[39m\n\u001b[1;32m    139\u001b[0m \u001b[39mif\u001b[39;00m \u001b[39mnot\u001b[39;00m np\u001b[39m.\u001b[39misscalar(fx):\n",
      "Cell \u001b[0;32mIn[18], line 11\u001b[0m, in \u001b[0;36mblack_box_function_clusters\u001b[0;34m(x)\u001b[0m\n\u001b[1;32m      8\u001b[0m system\u001b[39m.\u001b[39moscilators \u001b[39m=\u001b[39m oscilators\n\u001b[1;32m     10\u001b[0m mu0 \u001b[39m=\u001b[39m system\u001b[39m.\u001b[39mpositions\u001b[39m.\u001b[39mmean(axis\u001b[39m=\u001b[39m\u001b[39m0\u001b[39m)[\u001b[39m0\u001b[39m]\n\u001b[0;32m---> 11\u001b[0m system\u001b[39m.\u001b[39;49msimulate()\n\u001b[1;32m     12\u001b[0m mu \u001b[39m=\u001b[39m system\u001b[39m.\u001b[39mpositions\u001b[39m.\u001b[39mmean(axis\u001b[39m=\u001b[39m\u001b[39m0\u001b[39m)[\u001b[39m0\u001b[39m]\n\u001b[1;32m     13\u001b[0m dist \u001b[39m=\u001b[39m mu0 \u001b[39m-\u001b[39m mu\n",
      "Cell \u001b[0;32mIn[3], line 68\u001b[0m, in \u001b[0;36mSystem.simulate\u001b[0;34m(self, x)\u001b[0m\n\u001b[1;32m     66\u001b[0m \u001b[39melse\u001b[39;00m:\n\u001b[1;32m     67\u001b[0m     \u001b[39mwhile\u001b[39;00m \u001b[39mself\u001b[39m\u001b[39m.\u001b[39mt \u001b[39m<\u001b[39m \u001b[39mself\u001b[39m\u001b[39m.\u001b[39mT:\n\u001b[0;32m---> 68\u001b[0m         \u001b[39mself\u001b[39;49m\u001b[39m.\u001b[39;49mstep()\n\u001b[1;32m     69\u001b[0m         \u001b[39mself\u001b[39m\u001b[39m.\u001b[39mt \u001b[39m+\u001b[39m\u001b[39m=\u001b[39m \u001b[39mself\u001b[39m\u001b[39m.\u001b[39mdt\n",
      "Cell \u001b[0;32mIn[3], line 53\u001b[0m, in \u001b[0;36mSystem.step\u001b[0;34m(self)\u001b[0m\n\u001b[1;32m     51\u001b[0m ramp \u001b[39m=\u001b[39m \u001b[39mmin\u001b[39m(\u001b[39m1.\u001b[39m\u001b[39m-\u001b[39m(\u001b[39mself\u001b[39m\u001b[39m.\u001b[39mtau\u001b[39m-\u001b[39m\u001b[39mself\u001b[39m\u001b[39m.\u001b[39mt) \u001b[39m/\u001b[39m \u001b[39mself\u001b[39m\u001b[39m.\u001b[39mtau, \u001b[39m1\u001b[39m)\n\u001b[1;32m     52\u001b[0m f \u001b[39m=\u001b[39m \u001b[39m1\u001b[39m \u001b[39m+\u001b[39m ramp \u001b[39m*\u001b[39m factor(\u001b[39mself\u001b[39m\u001b[39m.\u001b[39moscilators, \u001b[39mself\u001b[39m\u001b[39m.\u001b[39medges, \u001b[39mself\u001b[39m\u001b[39m.\u001b[39mt)\n\u001b[0;32m---> 53\u001b[0m edge_constraint(\u001b[39mself\u001b[39;49m\u001b[39m.\u001b[39;49mpositions, \u001b[39mself\u001b[39;49m\u001b[39m.\u001b[39;49mweights, \u001b[39mself\u001b[39;49m\u001b[39m.\u001b[39;49medges, f \u001b[39m*\u001b[39;49m \u001b[39mself\u001b[39;49m\u001b[39m.\u001b[39;49mconstraint_e, k\u001b[39m=\u001b[39;49m\u001b[39mself\u001b[39;49m\u001b[39m.\u001b[39;49medge_stiffness)\n\u001b[1;32m     54\u001b[0m triangle_constraint(\u001b[39mself\u001b[39m\u001b[39m.\u001b[39mpositions, \u001b[39mself\u001b[39m\u001b[39m.\u001b[39mweights, \u001b[39mself\u001b[39m\u001b[39m.\u001b[39mtriangles, \u001b[39mself\u001b[39m\u001b[39m.\u001b[39mconstraint_t, k\u001b[39m=\u001b[39m\u001b[39mself\u001b[39m\u001b[39m.\u001b[39mtriangle_stiffness)\n\u001b[1;32m     55\u001b[0m collide_with_floor(\u001b[39mself\u001b[39m\u001b[39m.\u001b[39mpositions, \u001b[39mself\u001b[39m\u001b[39m.\u001b[39mprevious_positions, mu\u001b[39m=\u001b[39m\u001b[39mself\u001b[39m\u001b[39m.\u001b[39mmu)\n",
      "Cell \u001b[0;32mIn[2], line 52\u001b[0m, in \u001b[0;36medge_constraint\u001b[0;34m(p, w, e, l0, k)\u001b[0m\n\u001b[1;32m     50\u001b[0m \u001b[39mif\u001b[39;00m l \u001b[39m<\u001b[39m\u001b[39m=\u001b[39m \u001b[39m1e-9\u001b[39m:\n\u001b[1;32m     51\u001b[0m     \u001b[39mcontinue\u001b[39;00m\n\u001b[0;32m---> 52\u001b[0m n \u001b[39m=\u001b[39m \u001b[39m-\u001b[39;49mn \u001b[39m/\u001b[39m l\n\u001b[1;32m     53\u001b[0m lam \u001b[39m=\u001b[39m \u001b[39m-\u001b[39m(l \u001b[39m-\u001b[39m l0[i]) \u001b[39m/\u001b[39m (w0 \u001b[39m+\u001b[39m w1)\n\u001b[1;32m     54\u001b[0m dx \u001b[39m=\u001b[39m k \u001b[39m*\u001b[39m lam \u001b[39m*\u001b[39m n\n",
      "\u001b[0;31mKeyboardInterrupt\u001b[0m: "
     ]
    }
   ],
   "source": [
    "sol, i = 0, 0\n",
    "result = minimize(black_box_function_clusters, \n",
    "  x0=best_cluster_oscilators.flatten(), \n",
    "  method='L-BFGS-B', \n",
    "  bounds=bounds * clusters_count,\n",
    "  #options={ \n",
    "  #  'maxiter' : 2,\n",
    "  #  'maxfun' : 5,\n",
    "  #  'maxls' : 5,\n",
    "  #}\n",
    ")"
   ]
  },
  {
   "cell_type": "code",
   "execution_count": 24,
   "metadata": {},
   "outputs": [
    {
     "name": "stdout",
     "output_type": "stream",
     "text": [
      "0 6.183195323184957 6.183195323184957\n",
      "1 1.79716789603364 6.183195323184957\n",
      "2 0.4878192716608931 6.183195323184957\n",
      "3 -1.4288137772908773 6.183195323184957\n",
      "4 0.37684482290953514 6.183195323184957\n",
      "5 -0.14593284136756068 6.183195323184957\n",
      "6 0.06966731687614391 6.183195323184957\n",
      "7 -0.8126836590084762 6.183195323184957\n",
      "8 -1.785220784889039 6.183195323184957\n",
      "9 0.16084833194151837 6.183195323184957\n",
      "10 0.1751284008971381 6.183195323184957\n",
      "11 1.799657974213307 6.183195323184957\n",
      "12 4.666312025838813 6.183195323184957\n",
      "13 2.379720926653915 6.183195323184957\n",
      "14 0.4976560385414588 6.183195323184957\n",
      "15 1.8159970757890063 6.183195323184957\n",
      "16 0.221962948772213 6.183195323184957\n",
      "17 0.2830279971830165 6.183195323184957\n",
      "18 0.8620008237267434 6.183195323184957\n",
      "19 -7.179916108946221 6.183195323184957\n",
      "20 0.1380365886990509 6.183195323184957\n",
      "21 0.40816504628973815 6.183195323184957\n",
      "22 1.8701118554208953 6.183195323184957\n",
      "23 0.9312326832911022 6.183195323184957\n",
      "24 -2.013841852185524 6.183195323184957\n",
      "25 0.4741999008306548 6.183195323184957\n",
      "26 -0.5292381991778 6.183195323184957\n",
      "27 1.4652149628640092 6.183195323184957\n",
      "28 2.008487312573606 6.183195323184957\n",
      "29 0.1036438623638436 6.183195323184957\n",
      "30 -2.211494805169308 6.183195323184957\n",
      "31 -0.3875825667157464 6.183195323184957\n",
      "32 -0.6667684754376276 6.183195323184957\n",
      "33 1.8207820649411912 6.183195323184957\n",
      "34 1.7519614077671288 6.183195323184957\n",
      "35 -0.7255738296943874 6.183195323184957\n",
      "36 0.40230894047166665 6.183195323184957\n",
      "37 -0.2088743122560479 6.183195323184957\n",
      "38 2.0238028864171707 6.183195323184957\n",
      "39 0.4159494869526865 6.183195323184957\n",
      "40 0.8289655949437664 6.183195323184957\n",
      "41 0.4892674762559106 6.183195323184957\n",
      "42 0.7371751170733396 6.183195323184957\n",
      "43 2.229689617634479 6.183195323184957\n",
      "44 2.0139422528969115 6.183195323184957\n",
      "45 -0.08771025569686086 6.183195323184957\n",
      "46 2.157106892678571 6.183195323184957\n",
      "47 -0.6721364653209156 6.183195323184957\n",
      "48 2.0695410925071087 6.183195323184957\n",
      "49 2.2843240207791897 6.183195323184957\n",
      "50 6.739946907772612 6.739946907772612\n",
      "51 1.784894980215652 6.739946907772612\n",
      "52 1.1708872387861027 6.739946907772612\n",
      "53 2.410214624957584 6.739946907772612\n",
      "54 -0.3721303361562506 6.739946907772612\n",
      "55 2.2831923563660714 6.739946907772612\n",
      "56 -0.5508914995678209 6.739946907772612\n",
      "57 2.2915142094424716 6.739946907772612\n",
      "58 -0.9814085458919722 6.739946907772612\n",
      "59 1.7040054923860126 6.739946907772612\n",
      "60 0.4355487119691164 6.739946907772612\n",
      "61 1.7706545714441402 6.739946907772612\n",
      "62 -0.8542548704943996 6.739946907772612\n",
      "63 2.4181528157785905 6.739946907772612\n",
      "64 1.851270821440204 6.739946907772612\n",
      "65 1.988400684130332 6.739946907772612\n",
      "66 -2.0245034143160314 6.739946907772612\n",
      "67 1.861870034058238 6.739946907772612\n",
      "68 0.37235317494054265 6.739946907772612\n",
      "69 0.4242700595197624 6.739946907772612\n",
      "70 0.6598922221848398 6.739946907772612\n",
      "71 0.14804572371551838 6.739946907772612\n",
      "72 -0.11925027585336168 6.739946907772612\n",
      "73 0.5116864678380524 6.739946907772612\n",
      "74 2.3023543590500113 6.739946907772612\n",
      "75 2.5745602486471 6.739946907772612\n",
      "76 -0.3513600644592334 6.739946907772612\n",
      "77 1.8824251317460956 6.739946907772612\n",
      "78 1.029329192985441 6.739946907772612\n",
      "79 28.797997072510643 28.797997072510643\n",
      "80 1.9278804836992098 28.797997072510643\n",
      "81 -0.5128315631218903 28.797997072510643\n",
      "82 2.4398876101660365 28.797997072510643\n",
      "83 2.351158708533438 28.797997072510643\n",
      "84 -0.43126245273528097 28.797997072510643\n",
      "85 1.194723771813558 28.797997072510643\n",
      "86 1.458214581430919 28.797997072510643\n",
      "87 2.576615684659986 28.797997072510643\n",
      "88 2.0122719311189705 28.797997072510643\n",
      "89 2.0985665814906165 28.797997072510643\n",
      "90 2.8515169587480127 28.797997072510643\n",
      "91 2.524776464013856 28.797997072510643\n",
      "92 0.2989548534171309 28.797997072510643\n",
      "93 1.5411820061917434 28.797997072510643\n",
      "94 -0.20257696542300674 28.797997072510643\n",
      "95 0.10525091097971306 28.797997072510643\n",
      "96 2.3333883091399423 28.797997072510643\n",
      "97 1.2801239149766055 28.797997072510643\n",
      "98 -0.7717500560760353 28.797997072510643\n",
      "99 1.9959536217264933 28.797997072510643\n"
     ]
    }
   ],
   "source": [
    "sol, i = 0, 0\n",
    "result = gp_minimize(\n",
    "    func=black_box_function_clusters, \n",
    "    dimensions=bounds * clusters_count,\n",
    "    n_calls=1_00,\n",
    "    x0=list(best_cluster_oscilators.flatten()),\n",
    "    n_jobs=8)"
   ]
  },
  {
   "cell_type": "code",
   "execution_count": 25,
   "metadata": {},
   "outputs": [],
   "source": [
    "np.save('best_oscilators-cbunny-red', best_oscilators) \n",
    "np.save('best_cluster_oscilators-cbunny-red', best_cluster_oscilators) "
   ]
  },
  {
   "cell_type": "code",
   "execution_count": 26,
   "metadata": {},
   "outputs": [
    {
     "name": "stdout",
     "output_type": "stream",
     "text": [
      "sim done! (28.797997072510643)\n"
     ]
    }
   ],
   "source": [
    "system.copy_from(system_raw)\n",
    "system.oscilators = best_oscilators.copy()\n",
    "mu0 = system.mean_position()[0]\n",
    "system.simulate(x := [])\n",
    "mu = system.mean_position()[0]\n",
    "\n",
    "print(f\"sim done! ({mu-mu0})\")\n",
    "\n",
    "fig, ax = plt.subplots()\n",
    "ani = FuncAnimation(fig, update_bunny, frames=len(x[::16]), interval=100, fargs=(x[::16], system_raw.edges,))\n",
    "ani.save('ani-cluster-bunny-opt.gif')\n",
    "plt.close()"
   ]
  },
  {
   "attachments": {},
   "cell_type": "markdown",
   "metadata": {},
   "source": [
    "## Fixed amplitude\n"
   ]
  },
  {
   "cell_type": "code",
   "execution_count": 38,
   "metadata": {},
   "outputs": [],
   "source": [
    "def black_box_function_clusters_amp(x):\n",
    "    system.copy_from(system_raw)\n",
    "\n",
    "    clusters_oscilators = np.hstack((0.2 * np.ones((clusters_count, 1)), np.array(x).reshape((clusters_count, 2))))\n",
    "    oscilators = np.zeros(system_raw.oscilators.shape)\n",
    "    for j in range(clusters_count):\n",
    "        oscilators[clusters[j]] = clusters_oscilators[j]\n",
    "    system.oscilators = oscilators\n",
    "\n",
    "    mu0 = system.positions.mean(axis=0)[0]\n",
    "    system.simulate()\n",
    "    mu = system.positions.mean(axis=0)[0]\n",
    "    dist = mu0 - mu\n",
    "\n",
    "    global i, sol, best_oscilators, best_cluster_oscilators\n",
    "    if sol < -dist:\n",
    "        best_oscilators = system.oscilators.copy()\n",
    "        best_cluster_oscilators = clusters_oscilators.copy()\n",
    "\n",
    "    sol = max(sol, -dist)\n",
    "    print(i, -dist, sol)\n",
    "    i += 1\n",
    "    \n",
    "    return dist"
   ]
  },
  {
   "cell_type": "code",
   "execution_count": 42,
   "metadata": {},
   "outputs": [
    {
     "name": "stdout",
     "output_type": "stream",
     "text": [
      "0 7.020527197229291 7.020527197229291\n",
      "1 0.7369470782301906 7.020527197229291\n",
      "2 2.731432252678734 7.020527197229291\n",
      "3 4.123349365536483 7.020527197229291\n",
      "4 1.7713979102476316 7.020527197229291\n",
      "5 4.530482292805622 7.020527197229291\n",
      "6 1.1802328748956257 7.020527197229291\n",
      "7 1.8700199448355261 7.020527197229291\n",
      "8 2.5218776559654943 7.020527197229291\n",
      "9 2.255074839712881 7.020527197229291\n",
      "10 1.8924114851606102 7.020527197229291\n",
      "11 3.64486934528456 7.020527197229291\n",
      "12 2.929866542190104 7.020527197229291\n",
      "13 2.5478582808890806 7.020527197229291\n",
      "14 -1.634589770931843 7.020527197229291\n",
      "15 1.3304526076132561 7.020527197229291\n",
      "16 1.2408731537992466 7.020527197229291\n",
      "17 2.558089875250615 7.020527197229291\n",
      "18 2.7623149799697355 7.020527197229291\n",
      "19 2.763481989791284 7.020527197229291\n",
      "20 2.8541322031385787 7.020527197229291\n",
      "21 2.821386206942311 7.020527197229291\n",
      "22 2.470306747858472 7.020527197229291\n",
      "23 2.5088251183496153 7.020527197229291\n",
      "24 2.76228118936095 7.020527197229291\n",
      "25 2.480501639306044 7.020527197229291\n",
      "26 3.0453758701466835 7.020527197229291\n",
      "27 2.7629059150731603 7.020527197229291\n",
      "28 2.75814691256737 7.020527197229291\n",
      "29 2.9216513982743564 7.020527197229291\n",
      "30 2.822623931332628 7.020527197229291\n",
      "31 2.745358960693821 7.020527197229291\n",
      "32 2.7159564634921427 7.020527197229291\n",
      "33 2.4808346236741983 7.020527197229291\n",
      "34 2.4253527678024556 7.020527197229291\n",
      "35 0.10239600088540368 7.020527197229291\n",
      "36 3.2733184956047268 7.020527197229291\n",
      "37 2.720230811879154 7.020527197229291\n",
      "38 0.9999360841127329 7.020527197229291\n",
      "39 6.175955574892516 7.020527197229291\n",
      "40 0.8963443704598768 7.020527197229291\n",
      "41 1.346749437033875 7.020527197229291\n",
      "42 -0.5205489294846648 7.020527197229291\n",
      "43 1.4085837469051652 7.020527197229291\n",
      "44 3.362277354241159 7.020527197229291\n",
      "45 1.5717541243334112 7.020527197229291\n",
      "46 0.17780967724664265 7.020527197229291\n",
      "47 0.9930689523699539 7.020527197229291\n",
      "48 3.048966137124931 7.020527197229291\n",
      "49 1.2550356013334405 7.020527197229291\n",
      "50 -0.4785582263869197 7.020527197229291\n",
      "51 0.9401021492292256 7.020527197229291\n",
      "52 1.3618411922968316 7.020527197229291\n",
      "53 -0.5968271349588696 7.020527197229291\n",
      "54 2.969525030200538 7.020527197229291\n",
      "55 2.4453812906222447 7.020527197229291\n",
      "56 -0.3790778381439891 7.020527197229291\n",
      "57 1.959485596939505 7.020527197229291\n",
      "58 -0.49662784764177126 7.020527197229291\n",
      "59 1.2838694858659843 7.020527197229291\n",
      "60 -0.9338103734212592 7.020527197229291\n",
      "61 -0.2798433562422554 7.020527197229291\n",
      "62 0.4576478644905382 7.020527197229291\n",
      "63 3.602373155883786 7.020527197229291\n",
      "64 2.856216468311259 7.020527197229291\n",
      "65 2.3640383314602733 7.020527197229291\n",
      "66 2.018565129662293 7.020527197229291\n",
      "67 1.6104922791613976 7.020527197229291\n",
      "68 -0.09793091033753032 7.020527197229291\n",
      "69 -0.7593096483262469 7.020527197229291\n",
      "70 -1.0089826416137597 7.020527197229291\n",
      "71 -3.156117561879541 7.020527197229291\n",
      "72 0.8583396339546217 7.020527197229291\n",
      "73 -1.7161418325945181 7.020527197229291\n",
      "74 2.633373140727058 7.020527197229291\n",
      "75 1.3438802567779347 7.020527197229291\n",
      "76 1.8181736282463616 7.020527197229291\n",
      "77 2.3150886025767603 7.020527197229291\n",
      "78 2.855179230166745 7.020527197229291\n",
      "79 1.005239000992517 7.020527197229291\n",
      "80 0.5455217378340864 7.020527197229291\n",
      "81 -5.318535237066921 7.020527197229291\n",
      "82 0.6302294814469698 7.020527197229291\n",
      "83 2.7480908792500145 7.020527197229291\n",
      "84 0.5685065977650527 7.020527197229291\n",
      "85 2.528870393408625 7.020527197229291\n",
      "86 1.6467386588575288 7.020527197229291\n",
      "87 2.3085378082811028 7.020527197229291\n",
      "88 3.3382587442996163 7.020527197229291\n",
      "89 3.0169221272624602 7.020527197229291\n",
      "90 1.0393238698073388 7.020527197229291\n",
      "91 0.5594776444961971 7.020527197229291\n",
      "92 4.6698880446694595 7.020527197229291\n",
      "93 3.1630943844006847 7.020527197229291\n",
      "94 1.8143451139568698 7.020527197229291\n",
      "95 2.9518033077922103 7.020527197229291\n",
      "96 1.1188207752491823 7.020527197229291\n",
      "97 3.5664219456237154 7.020527197229291\n",
      "98 4.28972401230168 7.020527197229291\n",
      "99 2.4244733155472655 7.020527197229291\n",
      "100 4.211166914964345 7.020527197229291\n",
      "101 3.6886181899064097 7.020527197229291\n"
     ]
    }
   ],
   "source": [
    "bounds = [(0.0, 20.0), (-np.pi, np.pi)]\n",
    "\n",
    "sol, i = 0, 0\n",
    "result = minimize(black_box_function_clusters_amp, \n",
    "  x0=best_cluster_oscilators[:, 1:].flatten(), \n",
    "  method='L-BFGS-B', \n",
    "  bounds=bounds * clusters_count,\n",
    "  options={ \n",
    "    'maxiter' : 2,\n",
    "    'maxfun' : 5,\n",
    "    'maxls' : 5,\n",
    "  }\n",
    ")"
   ]
  },
  {
   "cell_type": "code",
   "execution_count": 40,
   "metadata": {},
   "outputs": [
    {
     "name": "stdout",
     "output_type": "stream",
     "text": [
      "sim done! (7.020527197229291)\n"
     ]
    }
   ],
   "source": [
    "system.copy_from(system_raw)\n",
    "system.oscilators = best_oscilators.copy()\n",
    "mu0 = system.mean_position()[0]\n",
    "system.simulate(x := [])\n",
    "mu = system.mean_position()[0]\n",
    "print(f\"sim done! ({mu-mu0})\")\n",
    "\n",
    "fig, ax = plt.subplots()\n",
    "ani = FuncAnimation(fig, update_bunny, frames=len(x[::16]), interval=100, fargs=(x[::16], system_raw.edges,))\n",
    "ani.save('ani-cluster-amp-bunny-opt.gif')\n",
    "plt.close()"
   ]
  },
  {
   "cell_type": "code",
   "execution_count": 43,
   "metadata": {},
   "outputs": [],
   "source": [
    "np.save('best_oscilators-cabunny', best_oscilators) \n",
    "np.save('best_cluster_oscilators-cabunny', best_cluster_oscilators) "
   ]
  },
  {
   "attachments": {},
   "cell_type": "markdown",
   "metadata": {},
   "source": [
    "## Conclusions"
   ]
  },
  {
   "attachments": {},
   "cell_type": "markdown",
   "metadata": {},
   "source": [
    "## Bibliography\n",
    "\n",
    "[1] Müller, Matthias, et al. \"Position based dynamics.\" Journal of Visual Communication and Image Representation 18.2 (2007): 109-118.\n",
    "\n",
    "[2] Bringing drawings to life: evolving distributed controllers for hand-drawn\n",
    "soft-bodied robots\n",
    "Michał Joachimczak1y, Rishemjit Kaur1;2, Reiji Suzuki1, Takaya Arita1"
   ]
  }
 ],
 "metadata": {
  "kernelspec": {
   "display_name": "Python 3",
   "language": "python",
   "name": "python3"
  },
  "language_info": {
   "codemirror_mode": {
    "name": "ipython",
    "version": 3
   },
   "file_extension": ".py",
   "mimetype": "text/x-python",
   "name": "python",
   "nbconvert_exporter": "python",
   "pygments_lexer": "ipython3",
   "version": "3.8.10"
  },
  "orig_nbformat": 4
 },
 "nbformat": 4,
 "nbformat_minor": 2
}
