{
 "cells": [
  {
   "cell_type": "code",
   "execution_count": 1,
   "metadata": {},
   "outputs": [],
   "source": [
    "import numpy as np\n",
    "import yaml\n",
    "import matplotlib.pyplot as plt\n",
    "from matplotlib.animation import FuncAnimation"
   ]
  },
  {
   "attachments": {},
   "cell_type": "markdown",
   "metadata": {},
   "source": [
    "## Step start\n",
    "\n",
    "$$ v \\to v + a \\Delta t $$\n",
    "\n",
    "$$ q = p $$\n",
    "\n",
    "$$ p \\to p + v \\Delta t $$"
   ]
  },
  {
   "cell_type": "code",
   "execution_count": 2,
   "metadata": {},
   "outputs": [],
   "source": [
    "def generate_edge_constraints(p, e):\n",
    "    return np.sqrt(((p[e[:, 0]] - p[e[:, 1]])**2).sum(axis=1))\n",
    "\n",
    "def generate_triangle_constraints(p, t):\n",
    "    a, b, c = p[t[:, 0]], p[t[:, 1]], p[t[:, 2]]\n",
    "    return np.cross(b - a, c - a)\n",
    "\n",
    "def step_start(p, q, v, a, dt):\n",
    "    v += a * dt\n",
    "    q[:] = p[:]\n",
    "    p += v * dt\n",
    "\n",
    "def collide_with_floor(p):\n",
    "    p[:, 1][p[:, 1] < 0] = 0\n",
    "\n",
    "def edge_constraint(p, w, e, l0, k=1.):\n",
    "    \"\"\"\n",
    "    Parameters\n",
    "    ----------\n",
    "    p: Positions\n",
    "    w: Weights\n",
    "    e: Edges\n",
    "    l0: Rest lengths\n",
    "    k: Stiffness\n",
    "    \"\"\"\n",
    "    for i in range(len(e)):\n",
    "        e0, e1 = e[i, 0], e[i, 1]\n",
    "        p0, p1, w0, w1 = p[e0], p[e1], w[e0], w[e1]\n",
    "        n = p1 - p0\n",
    "        l = np.linalg.norm(n)\n",
    "        if l <= 1e-9:\n",
    "            continue\n",
    "        n = -n / l\n",
    "        lam = -(l - l0[i]) / (w0 + w1)\n",
    "        dx = k * lam * n\n",
    "        p[e0] += w0 * dx\n",
    "        p[e1] -= w1 * dx\n",
    "\n",
    "def triangle_constraint(p, w, t, a0, k=1.):\n",
    "    for i in range(len(t)):\n",
    "        t0, t1, t2 = t[i, 0], t[i, 1], t[i, 2]\n",
    "        p0, p1, p2, w0, w1, w2 = p[t0], p[t1], p[t2], w[t0], w[t1], w[t2]\n",
    "        \n",
    "        p01 = p1 - p0\n",
    "        p02 = p2 - p0\n",
    "        p12 = p2 - p1\n",
    "        lam = w0 * np.dot(p12, p12) + w1 * np.dot(p02, p02) + w2 * np.dot(p01, p01)\n",
    "        if lam <= 1e-9:\n",
    "            continue\n",
    "\n",
    "        lam = k / lam\n",
    "        a = np.cross(p01, p02)\n",
    "        if a <= 1e-9:\n",
    "            continue\n",
    "\n",
    "        dx = lam * (a - a0[i])\n",
    "        ccw = np.array([[0, -1], [1, 0]])\n",
    "        p[t0] += dx * w0 * ccw @ p12\n",
    "        p[t1] += dx * w1 * ccw @ -p02\n",
    "        p[t2] += dx * w2 * ccw @ p01\n",
    "\n",
    "def step_end(p, q, v, dt):\n",
    "    v[:] = (p[:] - q[:]) / dt"
   ]
  },
  {
   "cell_type": "code",
   "execution_count": 3,
   "metadata": {},
   "outputs": [],
   "source": [
    "np.random.seed(42)\n",
    "\n",
    "dt = 1 / 60. / 8\n",
    "g = np.array([0, -20])\n",
    "\n",
    "with open('data.yaml') as f:\n",
    "    data = yaml.safe_load(f)\n",
    "\n",
    "positions = np.array(data['positions']) + np.array([0, 2])\n",
    "edges = np.array(data['edges'])\n",
    "triangles = np.array(data['triangles'])\n",
    "weights = np.array(data['weights'])\n",
    "\n",
    "previous_positions = np.zeros(positions.shape)\n",
    "velocities = np.zeros(positions.shape)\n",
    "constraint_e = generate_edge_constraints(positions, edges)\n",
    "constraint_t = generate_triangle_constraints(positions, triangles)\n",
    "\n",
    "oscilators = np.zeros((len(positions), 3))\n",
    "oscilators[0] = np.array([0.2, 25, 0])"
   ]
  },
  {
   "cell_type": "code",
   "execution_count": 4,
   "metadata": {},
   "outputs": [],
   "source": [
    "x = [ positions.copy() ]\n",
    "t = 0.\n",
    "\n",
    "gensin = lambda o, e, t: o[e, 0] * np.sin(o[e, 1] * t + o[e, 2])\n",
    "factor = lambda o, e, t: 1 + gensin(o, e[:, 0], t) + gensin(o, e[:, 1], t)\n",
    "for i in range(8 * 150):\n",
    "    step_start(positions, previous_positions, velocities, g, dt)\n",
    "    f = factor(oscilators, edges, t)\n",
    "    edge_constraint(positions, weights, edges, f * constraint_e, k=1.)\n",
    "    triangle_constraint(positions, weights, triangles, constraint_t, k=1.)\n",
    "    collide_with_floor(positions)\n",
    "    step_end(positions, previous_positions, velocities, dt)  \n",
    "    x.append(positions.copy())\n",
    "    t += dt"
   ]
  },
  {
   "cell_type": "code",
   "execution_count": 5,
   "metadata": {},
   "outputs": [],
   "source": [
    "def update(i, x, e):\n",
    "    ax.clear()\n",
    "    ax.set_aspect('equal')\n",
    "    ax.set_xlim((-2, +10))\n",
    "    ax.set_ylim((-0.1, 4))\n",
    "    ax.scatter(x[i][:, 0], x[i][:, 1], color='blue')\n",
    "    for ei in e:\n",
    "        p = x[i][ei]\n",
    "        ax.plot(p[:, 0], p[:, 1], color='blue')\n",
    "\n",
    "fig, ax = plt.subplots()\n",
    "\n",
    "ani = FuncAnimation(fig, update, frames=len(x[::8]), interval=100, fargs=(x[::8],edges,))\n",
    "ani.save('ani.gif')\n",
    "plt.close()"
   ]
  },
  {
   "attachments": {},
   "cell_type": "markdown",
   "metadata": {},
   "source": [
    "# Bibliography\n",
    "\n",
    "[1] Bringing drawings to life: evolving distributed controllers for hand-drawn\n",
    "soft-bodied robots\n",
    "Michał Joachimczak1y, Rishemjit Kaur1;2, Reiji Suzuki1, Takaya Arita1"
   ]
  }
 ],
 "metadata": {
  "kernelspec": {
   "display_name": "Python 3",
   "language": "python",
   "name": "python3"
  },
  "language_info": {
   "codemirror_mode": {
    "name": "ipython",
    "version": 3
   },
   "file_extension": ".py",
   "mimetype": "text/x-python",
   "name": "python",
   "nbconvert_exporter": "python",
   "pygments_lexer": "ipython3",
   "version": "3.8.10"
  },
  "orig_nbformat": 4
 },
 "nbformat": 4,
 "nbformat_minor": 2
}
